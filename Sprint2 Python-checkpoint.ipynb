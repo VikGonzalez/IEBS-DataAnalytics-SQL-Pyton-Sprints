{
 "cells": [
  {
   "cell_type": "markdown",
   "id": "e6746cf2",
   "metadata": {},
   "source": [
    "## Ejercicio 1.- Obtener el número de taxis distintos que han hecho un viaje de entre 20 y 44 € y hayan pagado con “Credit Card”"
   ]
  },
  {
   "cell_type": "markdown",
   "id": "ecc7062d",
   "metadata": {},
   "source": [
    "#### En este código abrimos el CSV utilizando la función reader y el delimitador ',' ###\n",
    "#### Realizamos un conteo para identificar los taxis únicos que genera el \"for\" ###\n",
    "#### Identificamos por el número de columna en donde están los valores que nos interesan y seleccionamos el rango de precio y el tipo de pago ###"
   ]
  },
  {
   "cell_type": "code",
   "execution_count": 8,
   "id": "b8f55545",
   "metadata": {},
   "outputs": [
    {
     "name": "stdout",
     "output_type": "stream",
     "text": [
      "239\n"
     ]
    }
   ],
   "source": [
    "import csv\n",
    "\n",
    "with open('Taxis.csv') as csvfile:\n",
    "    csv_reader = csv.reader(csvfile, delimiter= ',')\n",
    "    count = 0\n",
    "    count_trips = 0\n",
    "    taxi_ids = []\n",
    "    for row in csv_reader:\n",
    "        if count == 0:\n",
    "            count = count + 1\n",
    "            continue\n",
    "        if float(row[14].replace('','0')) > 20 and float(row[14]) < 44 and row[15] =='Credit Card':\n",
    "            if row[1] not in taxi_ids:\n",
    "                count_trips = count_trips +1\n",
    "                taxi_ids.append(row[1])\n",
    "    print(count_trips)\n"
   ]
  },
  {
   "cell_type": "markdown",
   "id": "1cfe43ef",
   "metadata": {},
   "source": [
    "## Ejercicio 2.- Obtener el número de taxis distintos que han hecho un viaje que hayan pagado en extras menos de 10€  y el tipo de pago sea “Cash”"
   ]
  },
  {
   "cell_type": "markdown",
   "id": "b6e750dc",
   "metadata": {},
   "source": [
    "#### En este código abrimos el CSV utilizando la función reader y el delimitador ',' ###\n",
    "#### Realizamos un conteo para identificar los taxis únicos que genera el \"for\" ###\n",
    "#### Identificamos por el número de columna en donde están los valores que nos interesan y seleccionamos el rango de precio y el tipo de pago ###"
   ]
  },
  {
   "cell_type": "code",
   "execution_count": 12,
   "id": "54ed9098",
   "metadata": {},
   "outputs": [
    {
     "name": "stdout",
     "output_type": "stream",
     "text": [
      "249\n"
     ]
    }
   ],
   "source": [
    "with open('Taxis.csv') as csvfile:\n",
    "    csv_reader = csv.reader(csvfile, delimiter= ',')\n",
    "    count = 0\n",
    "    count_trips = 0\n",
    "    taxi_ids = []\n",
    "    for row in csv_reader:\n",
    "        if count == 0:\n",
    "            count = count + 1\n",
    "            continue\n",
    "        if float(row[13].replace('','0')) < 10 and row[15] =='Cash':\n",
    "            if row[1] not in taxi_ids:\n",
    "                count_trips = count_trips +1\n",
    "                taxi_ids.append(row[1])\n",
    "    print(count_trips)"
   ]
  },
  {
   "cell_type": "markdown",
   "id": "474be827",
   "metadata": {},
   "source": [
    "## Ejercicio 3.- Obtener el número de taxis distintos que han hecho un viaje que hayan pagado en extras más de 60€ y el tipo de pago sea “Cash”"
   ]
  },
  {
   "cell_type": "code",
   "execution_count": 13,
   "id": "50636b5c",
   "metadata": {},
   "outputs": [
    {
     "name": "stdout",
     "output_type": "stream",
     "text": [
      "3\n"
     ]
    }
   ],
   "source": [
    "with open('Taxis.csv') as csvfile:\n",
    "    csv_reader = csv.reader(csvfile, delimiter= ',')\n",
    "    count = 0\n",
    "    count_trips = 0\n",
    "    taxi_ids = []\n",
    "    for row in csv_reader:\n",
    "        if count == 0:\n",
    "            count = count + 1\n",
    "            continue\n",
    "        if float(row[13].replace('','0')) > 60 and row[15] =='Cash':\n",
    "            if row[1] not in taxi_ids:\n",
    "                count_trips = count_trips +1\n",
    "                taxi_ids.append(row[1])\n",
    "    print(count_trips)"
   ]
  }
 ],
 "metadata": {
  "kernelspec": {
   "display_name": "Python 3 (ipykernel)",
   "language": "python",
   "name": "python3"
  },
  "language_info": {
   "codemirror_mode": {
    "name": "ipython",
    "version": 3
   },
   "file_extension": ".py",
   "mimetype": "text/x-python",
   "name": "python",
   "nbconvert_exporter": "python",
   "pygments_lexer": "ipython3",
   "version": "3.9.12"
  }
 },
 "nbformat": 4,
 "nbformat_minor": 5
}
