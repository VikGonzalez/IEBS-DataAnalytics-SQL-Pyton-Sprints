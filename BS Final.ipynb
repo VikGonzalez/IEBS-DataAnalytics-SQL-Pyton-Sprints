{
 "cells": [
  {
   "cell_type": "code",
   "execution_count": 1,
   "id": "7985db56",
   "metadata": {},
   "outputs": [],
   "source": [
    "#!pip install yahoo_fin\n",
    "#!pip install requests_html\n",
    " \n",
    "from yahoo_fin.stock_info import get_data\n",
    "import datetime\n",
    "import numpy as np\n",
    "import pandas as pd\n",
    "\n",
    "df = get_data(\"TEF\", start_date=\"05/30/2000\", index_as_date = True, interval=\"1d\")\n",
    "mod_df = df.reset_index()\n",
    "mod_df.rename(columns={\"index\" : \"date\", \"close\" : \"5_Yr_Rate\"}, inplace=True)\n",
    "\n",
    "data_df = mod_df\n",
    "mod_df = []"
   ]
  },
  {
   "cell_type": "markdown",
   "id": "7faf7a4d",
   "metadata": {},
   "source": [
    "### Máximo Histórico: Precio de Apertura"
   ]
  },
  {
   "cell_type": "code",
   "execution_count": 2,
   "id": "5879dac8",
   "metadata": {},
   "outputs": [
    {
     "data": {
      "text/html": [
       "<div>\n",
       "<style scoped>\n",
       "    .dataframe tbody tr th:only-of-type {\n",
       "        vertical-align: middle;\n",
       "    }\n",
       "\n",
       "    .dataframe tbody tr th {\n",
       "        vertical-align: top;\n",
       "    }\n",
       "\n",
       "    .dataframe thead th {\n",
       "        text-align: right;\n",
       "    }\n",
       "</style>\n",
       "<table border=\"1\" class=\"dataframe\">\n",
       "  <thead>\n",
       "    <tr style=\"text-align: right;\">\n",
       "      <th></th>\n",
       "      <th>date</th>\n",
       "    </tr>\n",
       "    <tr>\n",
       "      <th>open</th>\n",
       "      <th></th>\n",
       "    </tr>\n",
       "  </thead>\n",
       "  <tbody>\n",
       "    <tr>\n",
       "      <th>34.156666</th>\n",
       "      <td>2007-11-06</td>\n",
       "    </tr>\n",
       "  </tbody>\n",
       "</table>\n",
       "</div>"
      ],
      "text/plain": [
       "                date\n",
       "open                \n",
       "34.156666 2007-11-06"
      ]
     },
     "execution_count": 2,
     "metadata": {},
     "output_type": "execute_result"
    }
   ],
   "source": [
    "df_open_max = data_df[['date','open']]\n",
    "by_open = df_open_max.groupby('open').max()\n",
    "open_max = by_open.tail(1)\n",
    "open_max"
   ]
  },
  {
   "cell_type": "markdown",
   "id": "779c153d",
   "metadata": {},
   "source": [
    "### Mínimo Histórico: Precio de Apertura"
   ]
  },
  {
   "cell_type": "code",
   "execution_count": 3,
   "id": "a8dc3fc5",
   "metadata": {},
   "outputs": [
    {
     "data": {
      "text/html": [
       "<div>\n",
       "<style scoped>\n",
       "    .dataframe tbody tr th:only-of-type {\n",
       "        vertical-align: middle;\n",
       "    }\n",
       "\n",
       "    .dataframe tbody tr th {\n",
       "        vertical-align: top;\n",
       "    }\n",
       "\n",
       "    .dataframe thead th {\n",
       "        text-align: right;\n",
       "    }\n",
       "</style>\n",
       "<table border=\"1\" class=\"dataframe\">\n",
       "  <thead>\n",
       "    <tr style=\"text-align: right;\">\n",
       "      <th></th>\n",
       "      <th>date</th>\n",
       "    </tr>\n",
       "    <tr>\n",
       "      <th>open</th>\n",
       "      <th></th>\n",
       "    </tr>\n",
       "  </thead>\n",
       "  <tbody>\n",
       "    <tr>\n",
       "      <th>3.26</th>\n",
       "      <td>2020-10-29</td>\n",
       "    </tr>\n",
       "  </tbody>\n",
       "</table>\n",
       "</div>"
      ],
      "text/plain": [
       "           date\n",
       "open           \n",
       "3.26 2020-10-29"
      ]
     },
     "execution_count": 3,
     "metadata": {},
     "output_type": "execute_result"
    }
   ],
   "source": [
    "df_open_min = data_df[['date','open']]\n",
    "by_open = df_open_min.groupby('open').max()\n",
    "open_min = by_open.head(1)\n",
    "open_min"
   ]
  },
  {
   "cell_type": "markdown",
   "id": "05b7592d",
   "metadata": {},
   "source": [
    "### Máximo Histórico: Precio de Cierre"
   ]
  },
  {
   "cell_type": "code",
   "execution_count": 4,
   "id": "f3b31b50",
   "metadata": {},
   "outputs": [
    {
     "data": {
      "text/html": [
       "<div>\n",
       "<style scoped>\n",
       "    .dataframe tbody tr th:only-of-type {\n",
       "        vertical-align: middle;\n",
       "    }\n",
       "\n",
       "    .dataframe tbody tr th {\n",
       "        vertical-align: top;\n",
       "    }\n",
       "\n",
       "    .dataframe thead th {\n",
       "        text-align: right;\n",
       "    }\n",
       "</style>\n",
       "<table border=\"1\" class=\"dataframe\">\n",
       "  <thead>\n",
       "    <tr style=\"text-align: right;\">\n",
       "      <th></th>\n",
       "      <th>date</th>\n",
       "    </tr>\n",
       "    <tr>\n",
       "      <th>adjclose</th>\n",
       "      <th></th>\n",
       "    </tr>\n",
       "  </thead>\n",
       "  <tbody>\n",
       "    <tr>\n",
       "      <th>13.545176</th>\n",
       "      <td>2007-12-04</td>\n",
       "    </tr>\n",
       "  </tbody>\n",
       "</table>\n",
       "</div>"
      ],
      "text/plain": [
       "                date\n",
       "adjclose            \n",
       "13.545176 2007-12-04"
      ]
     },
     "execution_count": 4,
     "metadata": {},
     "output_type": "execute_result"
    }
   ],
   "source": [
    "df_close_max = data_df[['date','adjclose']]\n",
    "by_close = df_close_max.groupby('adjclose').max()\n",
    "close_max= by_close.tail(1)\n",
    "close_max"
   ]
  },
  {
   "cell_type": "markdown",
   "id": "8fdb261e",
   "metadata": {},
   "source": [
    "### Mínimo Histórico: Precio de Cierre"
   ]
  },
  {
   "cell_type": "code",
   "execution_count": 5,
   "id": "19e5547a",
   "metadata": {},
   "outputs": [
    {
     "data": {
      "text/html": [
       "<div>\n",
       "<style scoped>\n",
       "    .dataframe tbody tr th:only-of-type {\n",
       "        vertical-align: middle;\n",
       "    }\n",
       "\n",
       "    .dataframe tbody tr th {\n",
       "        vertical-align: top;\n",
       "    }\n",
       "\n",
       "    .dataframe thead th {\n",
       "        text-align: right;\n",
       "    }\n",
       "</style>\n",
       "<table border=\"1\" class=\"dataframe\">\n",
       "  <thead>\n",
       "    <tr style=\"text-align: right;\">\n",
       "      <th></th>\n",
       "      <th>date</th>\n",
       "    </tr>\n",
       "    <tr>\n",
       "      <th>adjclose</th>\n",
       "      <th></th>\n",
       "    </tr>\n",
       "  </thead>\n",
       "  <tbody>\n",
       "    <tr>\n",
       "      <th>2.393093</th>\n",
       "      <td>2002-09-30</td>\n",
       "    </tr>\n",
       "  </tbody>\n",
       "</table>\n",
       "</div>"
      ],
      "text/plain": [
       "               date\n",
       "adjclose           \n",
       "2.393093 2002-09-30"
      ]
     },
     "execution_count": 5,
     "metadata": {},
     "output_type": "execute_result"
    }
   ],
   "source": [
    "df_close_min = data_df[['date','adjclose']]\n",
    "by_close = df_close_min.groupby('adjclose').max()\n",
    "close_min= by_close.head (1)\n",
    "close_min"
   ]
  },
  {
   "cell_type": "markdown",
   "id": "041f75a8",
   "metadata": {},
   "source": [
    "### Máximo Histórico: Volumen"
   ]
  },
  {
   "cell_type": "code",
   "execution_count": 6,
   "id": "2df07d59",
   "metadata": {},
   "outputs": [
    {
     "data": {
      "text/html": [
       "<div>\n",
       "<style scoped>\n",
       "    .dataframe tbody tr th:only-of-type {\n",
       "        vertical-align: middle;\n",
       "    }\n",
       "\n",
       "    .dataframe tbody tr th {\n",
       "        vertical-align: top;\n",
       "    }\n",
       "\n",
       "    .dataframe thead th {\n",
       "        text-align: right;\n",
       "    }\n",
       "</style>\n",
       "<table border=\"1\" class=\"dataframe\">\n",
       "  <thead>\n",
       "    <tr style=\"text-align: right;\">\n",
       "      <th></th>\n",
       "      <th>date</th>\n",
       "    </tr>\n",
       "    <tr>\n",
       "      <th>volume</th>\n",
       "      <th></th>\n",
       "    </tr>\n",
       "  </thead>\n",
       "  <tbody>\n",
       "    <tr>\n",
       "      <th>21882000</th>\n",
       "      <td>2020-11-18</td>\n",
       "    </tr>\n",
       "  </tbody>\n",
       "</table>\n",
       "</div>"
      ],
      "text/plain": [
       "               date\n",
       "volume             \n",
       "21882000 2020-11-18"
      ]
     },
     "execution_count": 6,
     "metadata": {},
     "output_type": "execute_result"
    }
   ],
   "source": [
    "df_volume_max = data_df[['date','volume']]\n",
    "by_volume = df_volume_max.groupby('volume').max()\n",
    "volume_max= by_volume.tail(1)\n",
    "volume_max"
   ]
  },
  {
   "cell_type": "markdown",
   "id": "0757e25c",
   "metadata": {},
   "source": [
    "### Mínimo Histórico: Volumen"
   ]
  },
  {
   "cell_type": "code",
   "execution_count": 7,
   "id": "4173950d",
   "metadata": {},
   "outputs": [
    {
     "data": {
      "text/html": [
       "<div>\n",
       "<style scoped>\n",
       "    .dataframe tbody tr th:only-of-type {\n",
       "        vertical-align: middle;\n",
       "    }\n",
       "\n",
       "    .dataframe tbody tr th {\n",
       "        vertical-align: top;\n",
       "    }\n",
       "\n",
       "    .dataframe thead th {\n",
       "        text-align: right;\n",
       "    }\n",
       "</style>\n",
       "<table border=\"1\" class=\"dataframe\">\n",
       "  <thead>\n",
       "    <tr style=\"text-align: right;\">\n",
       "      <th></th>\n",
       "      <th>date</th>\n",
       "    </tr>\n",
       "    <tr>\n",
       "      <th>volume</th>\n",
       "      <th></th>\n",
       "    </tr>\n",
       "  </thead>\n",
       "  <tbody>\n",
       "    <tr>\n",
       "      <th>65832</th>\n",
       "      <td>2003-12-26</td>\n",
       "    </tr>\n",
       "  </tbody>\n",
       "</table>\n",
       "</div>"
      ],
      "text/plain": [
       "             date\n",
       "volume           \n",
       "65832  2003-12-26"
      ]
     },
     "execution_count": 7,
     "metadata": {},
     "output_type": "execute_result"
    }
   ],
   "source": [
    "df_volume_min = data_df[['date','volume']]\n",
    "by_volume = df_volume_min.groupby('volume').max()\n",
    "volume_min= by_volume.head (1)\n",
    "volume_min"
   ]
  }
 ],
 "metadata": {
  "kernelspec": {
   "display_name": "Python 3 (ipykernel)",
   "language": "python",
   "name": "python3"
  },
  "language_info": {
   "codemirror_mode": {
    "name": "ipython",
    "version": 3
   },
   "file_extension": ".py",
   "mimetype": "text/x-python",
   "name": "python",
   "nbconvert_exporter": "python",
   "pygments_lexer": "ipython3",
   "version": "3.9.12"
  },
  "vscode": {
   "interpreter": {
    "hash": "e6822839c80bb80c42f7f9e096efdd447a89633a8e8a553b5cfb2012f3a4eafe"
   }
  }
 },
 "nbformat": 4,
 "nbformat_minor": 5
}
